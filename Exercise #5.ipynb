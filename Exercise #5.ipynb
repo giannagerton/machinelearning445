{
 "cells": [
  {
   "cell_type": "code",
   "execution_count": 109,
   "metadata": {
    "collapsed": true
   },
   "outputs": [],
   "source": [
    "import numpy as np\n",
    "import matplotlib.pyplot as plt\n",
    "from sklearn.datasets import load_wine\n",
    "from sklearn.naive_bayes import GaussianNB\n",
    "samples, labels = load_wine(return_X_y=True)"
   ]
  },
  {
   "cell_type": "code",
   "execution_count": 110,
   "metadata": {},
   "outputs": [
    {
     "name": "stdout",
     "output_type": "stream",
     "text": [
      "[  1.30006180e+01   2.33634831e+00   2.36651685e+00   1.94949438e+01\n",
      "   9.97415730e+01   2.29511236e+00   2.02926966e+00   3.61853933e-01\n",
      "   1.59089888e+00   5.05808988e+00   9.57449438e-01   2.61168539e+00\n",
      "   7.46893258e+02]\n"
     ]
    }
   ],
   "source": [
    "X = samples.transpose()\n",
    "mean_vec = (np.sum(X, axis=1))/178\n",
    "print(mean_vec)\n",
    "mean_mat = np.tile(mean_vec.reshape(13,1),[1,178])\n",
    "X = X - mean_mat"
   ]
  },
  {
   "cell_type": "code",
   "execution_count": 111,
   "metadata": {},
   "outputs": [],
   "source": [
    "XXT = np.matmul(X, X.transpose())\n",
    "w, v = np.linalg.eig(XXT)\n",
    "x_tilde1 = (v[:,0:2]).T@X"
   ]
  },
  {
   "cell_type": "code",
   "execution_count": 112,
   "metadata": {},
   "outputs": [
    {
     "data": {
      "image/png": "[encoded data removed]",
      "text/plain": [
       "<matplotlib.figure.Figure at 0x11c326e48>"
      ]
     },
     "metadata": {},
     "output_type": "display_data"
    }
   ],
   "source": [
    "x0 = []\n",
    "y0 = []\n",
    "for i in range(178):\n",
    "    if(labels[i] == 0):\n",
    "        x0.append(x_tilde1[0][i])\n",
    "        y0.append(x_tilde1[1][i])\n",
    "plt.scatter(x0, y0, c='red', marker='s')\n",
    "x1 = []\n",
    "y1 = []\n",
    "for i in range(178):\n",
    "    if(labels[i] == 1):\n",
    "        x1.append(x_tilde1[0][i])\n",
    "        y1.append(x_tilde1[1][i])\n",
    "plt.scatter(x1, y1, c='green', marker='^')\n",
    "x2 = []\n",
    "y2 = []\n",
    "for i in range(178):\n",
    "    if(labels[i] == 2):\n",
    "        x2.append(x_tilde1[0][i])\n",
    "        y2.append(x_tilde1[1][i])\n",
    "plt.scatter(x2, y2, c='blue', marker='o')\n",
    "plt.title('2-D features of centered wine data samples')\n",
    "plt.xlabel('x')\n",
    "plt.ylabel('y')\n",
    "plt.show()"
   ]
  },
  {
   "cell_type": "code",
   "execution_count": 113,
   "metadata": {},
   "outputs": [
    {
     "data": {
      "image/png": "[encoded data removed]",
      "text/plain": [
       "<matplotlib.figure.Figure at 0x11c3b5438>"
      ]
     },
     "metadata": {},
     "output_type": "display_data"
    }
   ],
   "source": [
    "for i in range(178):\n",
    "    X[:,i:i+1] = X[:,i:i+1]/np.linalg.norm(X[:,i:i+1])\n",
    "XXT = np.matmul(X, X.transpose())\n",
    "w, v = np.linalg.eig(XXT)\n",
    "x_tilde2 = (v[:,0:2]).T@X\n",
    "x0 = []\n",
    "y0 = []\n",
    "for i in range(178):\n",
    "    if(labels[i] == 0):\n",
    "        x0.append(x_tilde2[0][i])\n",
    "        y0.append(x_tilde2[1][i])\n",
    "plt.scatter(x0, y0, c='red', marker='s')\n",
    "x1 = []\n",
    "y1 = []\n",
    "for i in range(178):\n",
    "    if(labels[i] == 1):\n",
    "        x1.append(x_tilde2[0][i])\n",
    "        y1.append(x_tilde2[1][i])\n",
    "plt.scatter(x1, y1, c='green', marker='^')\n",
    "x2 = []\n",
    "y2 = []\n",
    "for i in range(178):\n",
    "    if(labels[i] == 2):\n",
    "        x2.append(x_tilde2[0][i])\n",
    "        y2.append(x_tilde2[1][i])\n",
    "plt.scatter(x2, y2, c='blue', marker='o')\n",
    "plt.title('2-D features of standardized wine data samples')\n",
    "plt.xlabel('x')\n",
    "plt.ylabel('y')\n",
    "plt.show()"
   ]
  },
  {
   "cell_type": "markdown",
   "metadata": {
    "collapsed": true
   },
   "source": [
    "Based on the plots above, standardizing the data would lead to better classification performance."
   ]
  },
  {
   "cell_type": "code",
   "execution_count": 114,
   "metadata": {},
   "outputs": [
    {
     "data": {
      "text/plain": [
       "GaussianNB(priors=None)"
      ]
     },
     "execution_count": 114,
     "metadata": {},
     "output_type": "execute_result"
    }
   ],
   "source": [
    "clf = GaussianNB()\n",
    "clf.fit(x_tilde1.transpose(), labels)"
   ]
  },
  {
   "cell_type": "code",
   "execution_count": null,
   "metadata": {
    "collapsed": true
   },
   "outputs": [],
   "source": []
  }
 ],
 "metadata": {
  "kernelspec": {
   "display_name": "Python 3",
   "language": "python",
   "name": "python3"
  },
  "language_info": {
   "codemirror_mode": {
    "name": "ipython",
    "version": 3
   },
   "file_extension": ".py",
   "mimetype": "text/x-python",
   "name": "python",
   "nbconvert_exporter": "python",
   "pygments_lexer": "ipython3",
   "version": "3.6.3"
  }
 },
 "nbformat": 4,
 "nbformat_minor": 2
}
