{
 "cells": [
  {
   "cell_type": "markdown",
   "metadata": {},
   "source": [
    "### k-NN Classification"
   ]
  },
  {
   "cell_type": "code",
   "execution_count": 97,
   "metadata": {
    "collapsed": true
   },
   "outputs": [],
   "source": [
    "import numpy as np\n",
    "import math\n",
    "import operator \n",
    "import matplotlib.pyplot as plt\n",
    "from sklearn.decomposition import PCA\n",
    "from sklearn.datasets import load_digits\n",
    "from sklearn.neighbors import KNeighborsClassifier \n",
    "images, labels = load_digits(2, return_X_y=True)\n",
    "\n",
    "# Labeled training set\n",
    "training_images = images[:300]\n",
    "training_labels = labels[:300]\n",
    "\n",
    "# Labeled test set\n",
    "test_images = images[300:]\n",
    "test_labels = labels[300:]"
   ]
  },
  {
   "cell_type": "markdown",
   "metadata": {},
   "source": [
    "### k-NN Classification Using 2-D Features\n",
    "\n",
    "##### Compute top 2 principal componets and calculate the feature matrix of the training images data"
   ]
  },
  {
   "cell_type": "code",
   "execution_count": 98,
   "metadata": {},
   "outputs": [],
   "source": [
    "u, s, vT = np.linalg.svd(training_images.transpose())\n",
    "C = np.matmul(training_images.transpose(), training_images)\n",
    "w, v = np.linalg.eig(C)\n",
    "topEigenVectors = v[:,:2]\n",
    "trainingData = np.matmul(training_images, topEigenVectors)"
   ]
  },
  {
   "cell_type": "markdown",
   "metadata": {},
   "source": [
    "##### Display 2-D features of traing images on a scatter plot (green=1, red=0)"
   ]
  },
  {
   "cell_type": "code",
   "execution_count": 106,
   "metadata": {},
   "outputs": [
    {
     "data": {
      "image/png": "[encoded data removed]",
      "text/plain": [
       "<matplotlib.figure.Figure at 0x106cfa160>"
      ]
     },
     "metadata": {},
     "output_type": "display_data"
    }
   ],
   "source": [
    "x1 = []\n",
    "y1 = []\n",
    "for i in range(300):\n",
    "    if(training_labels[i] == 1):\n",
    "        x1.append(trainingData[i][0])\n",
    "        y1.append(trainingData[i][1])\n",
    "x0 = []\n",
    "y0 = []\n",
    "for i in range(300):\n",
    "    if(training_labels[i] == 0):\n",
    "        x0.append(trainingData[i][0])\n",
    "        y0.append(trainingData[i][1])\n",
    "plt.scatter(x1, y1, c='green')\n",
    "plt.scatter(x0, y0, c='r')\n",
    "plt.title('2-D features of training images')\n",
    "plt.xlabel('x')\n",
    "plt.ylabel('y')\n",
    "plt.show()"
   ]
  },
  {
   "cell_type": "markdown",
   "metadata": {},
   "source": [
    "##### Transform the test data using the top two principal components"
   ]
  },
  {
   "cell_type": "code",
   "execution_count": 100,
   "metadata": {},
   "outputs": [],
   "source": [
    "testData = np.matmul(test_images, principalComponents)"
   ]
  },
  {
   "cell_type": "code",
   "execution_count": 101,
   "metadata": {
    "collapsed": true
   },
   "outputs": [],
   "source": [
    "def euclideanDistance(instance1, instance2):\n",
    "    distance = 0\n",
    "    for x in range(len(instance1)):\n",
    "        distance += pow((instance1[x] - instance2[x]), 2)\n",
    "    return math.sqrt(distance)"
   ]
  },
  {
   "cell_type": "code",
   "execution_count": 102,
   "metadata": {
    "collapsed": true
   },
   "outputs": [],
   "source": [
    "def getNeighbors(trainingData, testInstance, k):\n",
    "    distances = []\n",
    "    for x in range(len(trainingData)):\n",
    "        dist = euclideanDistance(testInstance, trainingData[x])\n",
    "        distances.append((trainingData[x], dist))\n",
    "    distances.sort(key=operator.itemgetter(1))\n",
    "    neighbors = []\n",
    "    for x in range(k):\n",
    "        neighbors.append(distances[x][0])\n",
    "    return neighbors"
   ]
  },
  {
   "cell_type": "code",
   "execution_count": 103,
   "metadata": {
    "collapsed": true
   },
   "outputs": [],
   "source": [
    "def getClassifer(neighbors):\n",
    "    dictOfClassifiers = {}\n",
    "    for x in range(len(neighbors)):\n",
    "        response = neighbors[x][-1]\n",
    "        if response in dictOfClassifiers:\n",
    "            dictOfClassifiers[response] += 1\n",
    "        else:\n",
    "            dictOfClassifiers[response] = 1\n",
    "    sortedVotes = sorted(dictOfClassifiers.items(), key=operator.itemgetter(1), reverse=True)\n",
    "    return sortedVotes[0][0]"
   ]
  },
  {
   "cell_type": "markdown",
   "metadata": {},
   "source": [
    "#### k-NN classification on the test data with a scatter plot showing outcomes. Blue points were classified correctly, black points were classified incorrectly"
   ]
  },
  {
   "cell_type": "code",
   "execution_count": 104,
   "metadata": {},
   "outputs": [
    {
     "data": {
      "image/png": "[encoded data removed]",
      "text/plain": [
       "<matplotlib.figure.Figure at 0x1a11c0c160>"
      ]
     },
     "metadata": {},
     "output_type": "display_data"
    }
   ],
   "source": [
    "pred_testLabels = []\n",
    "training_labels = training_labels.reshape(300,1)\n",
    "trainingData_labels = np.hstack((trainingData,training_labels))\n",
    "for i in range(len(testData)):\n",
    "    neighbors = getNeighbors(trainingData_labels, testData[i], 5)\n",
    "    pred_testLabels.append(getClassifier(neighbors))\n",
    "testCorrect_x = []\n",
    "testCorrect_y = []\n",
    "for i in range(len(testData)):\n",
    "    if(pred_testLabels[i] == test_labels[i]):\n",
    "        testCorrect_x.append(testData[i][0])\n",
    "        testCorrect_y.append(testData[i][1])\n",
    "testIncorrect_x = []\n",
    "testIncorrect_y = []\n",
    "for i in range(len(testData)):\n",
    "    if(pred_testLabels[i] != test_labels[i]):\n",
    "        testIncorrect_x.append(testData[i][0])\n",
    "        testIncorrect_y.append(testData[i][1])\n",
    "plt.scatter(testCorrect_x, testCorrect_y, c='blue')\n",
    "plt.scatter(testIncorrect_x, testIncorrect_y, c='black')\n",
    "plt.title('Scatter plot')\n",
    "plt.xlabel('x')\n",
    "plt.ylabel('y')\n",
    "plt.show()"
   ]
  },
  {
   "cell_type": "markdown",
   "metadata": {},
   "source": [
    "#### Average Classifcation Error"
   ]
  },
  {
   "cell_type": "code",
   "execution_count": 89,
   "metadata": {},
   "outputs": [
    {
     "name": "stdout",
     "output_type": "stream",
     "text": [
      "0.05\n"
     ]
    }
   ],
   "source": [
    "error = 0\n",
    "for i in range(60):\n",
    "    if(pred_testLabels[i] != test_labels[i]):\n",
    "        error += 1\n",
    "print(error/60)"
   ]
  },
  {
   "cell_type": "markdown",
   "metadata": {},
   "source": [
    "### k-NN Classification Using Higher-dimensional Features"
   ]
  },
  {
   "cell_type": "code",
   "execution_count": 90,
   "metadata": {},
   "outputs": [],
   "source": [
    "C = np.matmul(training_images.transpose(), training_images)\n",
    "w, v = np.linalg.eig(C)\n",
    "sum = 0\n",
    "for i in range(len(w)):\n",
    "    sum += w[i]\n",
    "target_sum = sum*.95\n",
    "sum = 0\n",
    "top_eigenvalues = []\n",
    "for i in range(len(w)):\n",
    "    top_eigenvalues.append(w[i])\n",
    "    sum += w[i]\n",
    "    if(sum >= target_sum):\n",
    "        break\n",
    "principal_components = np.zeros(shape=(64,len(top_eigenvalues)))\n",
    "for i in range(len(top_eigenvalues)):\n",
    "    principal_components[:,i] = v[:,i]\n",
    "newTrainingData = np.matmul(training_images, principal_components)"
   ]
  },
  {
   "cell_type": "code",
   "execution_count": 94,
   "metadata": {},
   "outputs": [
    {
     "data": {
      "image/png": "[encoded data removed]",
      "text/plain": [
       "<matplotlib.figure.Figure at 0x106c23160>"
      ]
     },
     "metadata": {},
     "output_type": "display_data"
    }
   ],
   "source": [
    "newTestData = np.matmul(test_images, principal_components)\n",
    "newTrainingData_labels = np.hstack((newTrainingData,training_labels))\n",
    "x = [1, 3, 5, 7, 9]\n",
    "y = []\n",
    "for iter in [1,3,5,7,9]:\n",
    "    pred_testLabels = []\n",
    "    for i in range(len(testData)):\n",
    "        neighbors = getNeighbors(newTrainingData_labels, testData[i], iter)\n",
    "        pred_testLabels.append(getResponse(neighbors))\n",
    "    error = 0\n",
    "    for i in range(60):\n",
    "        if(pred_testLabels[i] != test_labels[i]):\n",
    "            error += 1\n",
    "    y.append(error/60)\n",
    "plt.scatter(x, y, c='blue')\n",
    "plt.title('Average Classification Error')\n",
    "plt.xlabel('x')\n",
    "plt.ylabel('y')\n",
    "plt.show()"
   ]
  },
  {
   "cell_type": "markdown",
   "metadata": {},
   "source": [
    "#### Based on this plot I would choose a k this is not too big or too small. If it is too big you grab points that could be really far away and if your k is too small you don't have enough information to correctly classify the points. In this case, when trying to classify a point as a 0 or 1, I would choose k=5. Also, it is always better to take odd values for binary classification to avoid ties."
   ]
  },
  {
   "cell_type": "code",
   "execution_count": null,
   "metadata": {
    "collapsed": true
   },
   "outputs": [],
   "source": []
  }
 ],
 "metadata": {
  "kernelspec": {
   "display_name": "Python 3",
   "language": "python",
   "name": "python3"
  },
  "language_info": {
   "codemirror_mode": {
    "name": "ipython",
    "version": 3
   },
   "file_extension": ".py",
   "mimetype": "text/x-python",
   "name": "python",
   "nbconvert_exporter": "python",
   "pygments_lexer": "ipython3",
   "version": "3.6.3"
  }
 },
 "nbformat": 4,
 "nbformat_minor": 2
}
