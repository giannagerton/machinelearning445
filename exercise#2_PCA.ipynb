{
 "cells": [
  {
   "cell_type": "code",
   "execution_count": 317,
   "metadata": {},
   "outputs": [
    {
     "name": "stdout",
     "output_type": "stream",
     "text": [
      "Matrix A:\n",
      "[[ 0.04075344 -0.09264863]\n",
      " [ 0.10914279  0.05894637]\n",
      " [ 0.03424502  0.04106398]]\n",
      "Rank of Matrix A:  2\n"
     ]
    }
   ],
   "source": [
    "import numpy as np\n",
    "import math\n",
    "\n",
    "A = np.zeros(shape=(3,2))\n",
    "mu, sigma = 0, 0.1 # mean and standard deviation\n",
    "for i in range(A.shape[0]):\n",
    "    for j in range(A.shape[1]):\n",
    "        A[i][j] = np.random.normal(mu, sigma, 1)\n",
    "print(\"Matrix A:\")\n",
    "print(A)\n",
    "print(\"Rank of Matrix A: \", np.linalg.matrix_rank(A))"
   ]
  },
  {
   "cell_type": "code",
   "execution_count": 318,
   "metadata": {
    "scrolled": true
   },
   "outputs": [
    {
     "name": "stdout",
     "output_type": "stream",
     "text": [
      "Shape of Matrix X:  (3, 500)\n",
      "Rank of Matrix X:  2\n"
     ]
    }
   ],
   "source": [
    "N = 500\n",
    "v = np.zeros(shape=(2,1))\n",
    "X = np.zeros(shape=(3,N))\n",
    "x = np.zeros(shape=(3,1))\n",
    "for i in range(N):\n",
    "    v[0] = np.random.normal(mu, sigma, 1)\n",
    "    v[1] = np.random.normal(mu, sigma, 1)\n",
    "    x = np.matmul(A, v)\n",
    "    X[0][i] = x[0]\n",
    "    X[1][i] = x[1]\n",
    "    X[2][i] = x[2]\n",
    "print(\"Shape of Matrix X: \", X.shape)\n",
    "print(\"Rank of Matrix X: \", np.linalg.matrix_rank(X))"
   ]
  },
  {
   "cell_type": "code",
   "execution_count": 319,
   "metadata": {
    "scrolled": true
   },
   "outputs": [
    {
     "name": "stdout",
     "output_type": "stream",
     "text": [
      "Matrix U: columns are the left singular vectors\n",
      "[[ 0.21388132  0.96003226  0.1805349 ]\n",
      " [-0.8960249   0.26641574 -0.35519294]\n",
      " [-0.38909402 -0.08579463  0.91719416]]\n",
      "Matrix v: columns are the eigenvectors\n",
      "[[ 0.21388132 -0.96003226  0.1805349 ]\n",
      " [-0.8960249  -0.26641574 -0.35519294]\n",
      " [-0.38909402  0.08579463  0.91719416]]\n"
     ]
    }
   ],
   "source": [
    "u, s, vT = np.linalg.svd(X)\n",
    "print(\"Matrix U: columns are the left singular vectors\")\n",
    "print(u)\n",
    "XXT = np.matmul(X, X.transpose())\n",
    "w, v = np.linalg.eig(XXT)\n",
    "XTX = np.matmul(X.transpose(), X)\n",
    "w2, v2 = np.linalg.eig(XTX)\n",
    "print(\"Matrix v: columns are the eigenvectors\")\n",
    "print(v)"
   ]
  },
  {
   "cell_type": "code",
   "execution_count": 320,
   "metadata": {},
   "outputs": [
    {
     "name": "stdout",
     "output_type": "stream",
     "text": [
      "the singular values\n",
      "[  3.20759437e-01   2.28455202e-01   1.97141032e-17]\n",
      "\n",
      "[  3.20759437e-01   2.28455202e-01   1.70342288e-09]\n"
     ]
    }
   ],
   "source": [
    "print(\"the singular values\")\n",
    "# A = np.zeros(shape=(3,2))\n",
    "print(s)\n",
    "for i in range(3):\n",
    "    w[i] = math.sqrt(w[i])\n",
    "print()\n",
    "print(w)"
   ]
  },
  {
   "cell_type": "code",
   "execution_count": 321,
   "metadata": {},
   "outputs": [
    {
     "name": "stdout",
     "output_type": "stream",
     "text": [
      "The Frobenius norm is equal to the sum of the squares of the singular values\n",
      "0.155078396057\n",
      "0.155078396057\n"
     ]
    }
   ],
   "source": [
    "print(\"The Frobenius norm is equal to the sum of the squares of the singular values\")\n",
    "print(np.linalg.norm(X)**2)\n",
    "print(s[0]**2+s[1]**2+s[2]**2)"
   ]
  },
  {
   "cell_type": "markdown",
   "metadata": {},
   "source": [
    "Since the rank of X is two, there should only be two nonzero singular values of X. But in most cases this doesn't happen instead the numbers just get really close to zero this is because of floating point errors in python."
   ]
  },
  {
   "cell_type": "markdown",
   "metadata": {},
   "source": [
    "### PCA of Dataset #1"
   ]
  },
  {
   "cell_type": "markdown",
   "metadata": {},
   "source": [
    "1) even though we can have up to three principal components, two principal components should be enough to capture all variation in the data because of the way matrix X was generated. Each column was computed by multiplying A (a fixed matrix) and v which is a random 2 x 1 matrix. So in each column only two values varied."
   ]
  },
  {
   "cell_type": "code",
   "execution_count": 322,
   "metadata": {},
   "outputs": [
    {
     "name": "stdout",
     "output_type": "stream",
     "text": [
      "[[-0.01238421 -0.001487   -0.01363596 ...,  0.01075637 -0.00283135\n",
      "  -0.01017508]\n",
      " [-0.00975347  0.00601872  0.00605433 ...,  0.0085605  -0.01322485\n",
      "   0.01015058]\n",
      " [-0.0013395   0.0026235   0.00502862 ...,  0.00119792 -0.00456415\n",
      "   0.00593372]]\n",
      "-0.00133949801392\n"
     ]
    }
   ],
   "source": [
    "print(X)\n",
    "print(X[2][0])"
   ]
  },
  {
   "cell_type": "code",
   "execution_count": 323,
   "metadata": {},
   "outputs": [
    {
     "name": "stdout",
     "output_type": "stream",
     "text": [
      "This is the mean vector of matrix X with very small entries.\n",
      "\n",
      "[[ -7.82572472e-03   2.38507137e-03  -8.51002060e-04  -1.23129760e-02\n",
      "    8.56470636e-04  -9.56235769e-03  -9.17920248e-03  -5.18877052e-03\n",
      "   -4.53975230e-03   8.75064372e-03  -1.67359204e-03  -7.50560400e-03\n",
      "    3.83678502e-03  -5.06928178e-03   1.47945308e-03   6.52922763e-03\n",
      "    1.89665790e-03   4.03507652e-03  -7.06062439e-03  -6.71194054e-05\n",
      "   -3.21592613e-03  -1.01591945e-02   2.10178404e-03  -9.79942697e-03\n",
      "   -6.49113388e-03  -1.36436001e-03   2.62716524e-03   6.05478464e-03\n",
      "    6.72460901e-03   1.66037707e-02  -2.02338739e-03  -2.77198648e-03\n",
      "   -6.04893126e-03  -3.01882488e-03  -2.77974389e-03  -4.65752406e-03\n",
      "   -3.82213658e-03  -6.73516551e-03  -9.85976558e-03  -2.52995693e-03\n",
      "   -6.55607523e-03   8.11471727e-03  -5.04494169e-03  -6.81207316e-03\n",
      "   -6.86370697e-03  -1.08246898e-02  -1.43666272e-03  -2.35876138e-03\n",
      "    3.57554219e-03  -5.89250418e-03  -6.90596331e-03   3.41267932e-03\n",
      "    4.85111850e-03   2.13899060e-03  -6.06474904e-03  -5.61574364e-03\n",
      "    1.14034563e-03   9.90730257e-04  -6.04923101e-03   1.59250368e-03\n",
      "   -6.09791956e-03  -5.73025430e-03   9.23446429e-04  -4.83037221e-03\n",
      "    2.25803994e-03  -2.92119793e-03  -2.20348017e-03  -5.79129954e-04\n",
      "   -1.61599480e-03   1.50904600e-03   6.76253228e-03   1.20331593e-03\n",
      "   -4.01851005e-03   5.67279636e-03  -1.74863570e-03  -1.11383704e-03\n",
      "   -3.88961589e-03   4.40452825e-03  -8.83079583e-03  -1.13413943e-02\n",
      "    4.72754485e-03  -6.86710544e-03  -2.56767590e-03  -3.10977591e-03\n",
      "    8.42332344e-03  -5.72495711e-03  -3.73028321e-03  -4.98028874e-03\n",
      "    3.16095149e-03  -6.45032598e-03  -2.81031067e-03  -9.81577589e-04\n",
      "    4.09166429e-03  -3.50156047e-03  -4.19982521e-03  -8.11338319e-03\n",
      "   -4.10449918e-03  -1.90642290e-03  -6.63714426e-03  -6.27524334e-03\n",
      "   -1.52497545e-03  -1.76594938e-03   1.48075976e-02   1.31837983e-03\n",
      "   -2.38009295e-04   3.92047369e-03   4.49818917e-03  -1.04088572e-02\n",
      "   -1.14580115e-02   2.05500501e-04   1.54471613e-04   2.70662171e-03\n",
      "    3.70156309e-03   7.18524023e-03  -9.15175292e-03  -9.06598170e-03\n",
      "   -9.45924768e-04   3.81923108e-03   9.83245162e-04  -2.06191116e-03\n",
      "    4.88643082e-04   3.46043433e-03  -2.75098854e-04   1.48945951e-03\n",
      "    1.04422830e-02   4.28869996e-04  -4.97987836e-03   2.67204202e-03\n",
      "    9.79516010e-03   2.84106786e-03  -5.05572149e-03  -4.25490790e-03\n",
      "    9.93911264e-03  -1.49487417e-02   7.49424819e-03   4.03225886e-03\n",
      "   -4.33010961e-03  -7.15985101e-03   3.25355870e-03  -4.18394082e-03\n",
      "    1.86164640e-03  -5.12138758e-05   6.61411425e-03  -6.73023902e-03\n",
      "   -3.44987419e-03  -2.64170778e-03  -5.81473278e-03  -1.55538692e-03\n",
      "   -4.49936273e-03   1.32020410e-03  -6.71481629e-03  -1.78317147e-03\n",
      "   -1.85832391e-02  -9.16693944e-03   5.98831403e-03   1.20610296e-02\n",
      "    9.27633509e-03   4.71291934e-03  -1.40231231e-02  -4.65101695e-03\n",
      "   -3.39715819e-03  -3.48293225e-03   3.80166812e-03  -8.24681590e-03\n",
      "    3.30481555e-03  -1.03710218e-02  -2.10752510e-03   1.56138014e-03\n",
      "   -5.52850958e-04   4.27809291e-03  -7.75012117e-03   6.96885728e-03\n",
      "   -1.25071890e-02   4.07675881e-03  -4.55506526e-03   2.74642866e-03\n",
      "    1.02396846e-02   1.31473341e-03   1.28287901e-02  -5.53637150e-03\n",
      "   -3.60156100e-03  -1.52376024e-03  -1.16495772e-02   3.87990428e-03\n",
      "   -1.00025864e-02   3.98581573e-03   4.99034915e-03  -8.74557069e-03\n",
      "    3.13480462e-03  -6.63169833e-03  -1.27097677e-02   3.09837033e-03\n",
      "   -9.51510749e-03  -1.75156811e-03  -9.40416141e-03  -1.90609142e-03\n",
      "    1.89335413e-03  -4.34130995e-03   3.22450646e-03  -6.53265537e-03\n",
      "    2.49310941e-03   3.97072365e-03  -2.60319504e-03   4.35065178e-03\n",
      "    4.31834281e-03   3.52753156e-03   6.85370094e-03   4.08497692e-03\n",
      "   -1.48945124e-02  -2.52842870e-03   1.39793766e-03  -9.67262083e-03\n",
      "   -2.73674589e-03  -1.15138760e-02  -6.91624795e-03  -3.58221458e-03\n",
      "   -4.42012460e-03   3.04353110e-03   8.66930924e-03   1.19499299e-02\n",
      "   -9.45901264e-03   3.52988376e-03  -1.41590006e-02  -9.24382667e-03\n",
      "   -2.02264112e-03   1.02006579e-02  -1.53602902e-03  -1.68468433e-03\n",
      "   -4.81329288e-03   3.33089323e-03  -4.25961434e-03   1.36909225e-02\n",
      "   -6.53570785e-04   3.56091428e-03   3.45188326e-03  -8.48287096e-03\n",
      "   -1.95389803e-03  -7.17048628e-03   1.27784950e-02  -9.57479136e-04\n",
      "    1.05830978e-02   1.53440942e-02  -2.16423651e-04  -1.32311797e-02\n",
      "   -1.57308435e-03  -9.38073381e-04   6.81468151e-03  -2.59928368e-03\n",
      "    9.46268054e-03  -2.96240471e-04  -5.47639856e-03   1.88465883e-03\n",
      "   -5.29146625e-04   1.79854588e-03  -1.85710733e-03  -2.09997541e-04\n",
      "   -9.58776582e-04   9.67086021e-03   8.58755628e-03   3.12505531e-03\n",
      "    3.92039830e-03  -7.90273067e-03   6.38345144e-03   1.26767496e-03\n",
      "    9.67951729e-03  -7.60292697e-03   7.66826911e-03   1.83822598e-04\n",
      "    1.47852045e-03   9.92178898e-03  -7.07582619e-03   2.81792285e-03\n",
      "    4.15165570e-03  -3.87757863e-03   3.26534923e-03   3.98693917e-03\n",
      "    1.29120097e-04  -8.65771077e-03   1.04703443e-02  -5.55100580e-03\n",
      "    1.14966315e-03   7.93150618e-03   6.49581669e-03   6.41449661e-03\n",
      "   -8.98474967e-04   4.31830466e-03   5.96279889e-03   1.05755696e-02\n",
      "   -4.09879431e-03   4.11056078e-04  -7.61746294e-03   7.81656820e-03\n",
      "    9.15432817e-03   2.09656555e-03  -4.96485395e-03   4.04375914e-03\n",
      "   -7.03680346e-03   1.74567227e-04  -9.48696588e-03   6.94016110e-03\n",
      "    6.26445017e-03  -1.13447309e-03  -3.78250758e-04  -3.99566062e-03\n",
      "    4.30375211e-03   2.85694101e-03  -1.03895357e-02  -1.15824472e-02\n",
      "   -5.64951301e-04  -2.34884192e-03   8.38585613e-03   6.83461366e-03\n",
      "    2.48790161e-03  -9.54772075e-04   7.26066074e-04   1.62464115e-02\n",
      "    1.02233133e-02  -2.67087327e-03   2.55350843e-03   6.41486658e-03\n",
      "    2.58114828e-03  -9.26850890e-03   3.28834237e-03   3.58684892e-03\n",
      "    5.84129542e-03   4.54283302e-04  -5.27424955e-03   4.83573112e-03\n",
      "    1.43481214e-02   3.77518556e-03  -6.88045713e-03  -3.28361198e-03\n",
      "    2.01712337e-02   8.81457690e-03   4.05929195e-03   2.34297751e-03\n",
      "   -6.24560981e-03  -2.76524956e-03  -1.75404507e-03  -4.44585721e-03\n",
      "    6.19720700e-04  -7.71907823e-03   7.83175221e-03  -1.10565417e-02\n",
      "    8.71976414e-03   7.81135918e-03   3.08904453e-03  -1.20499159e-02\n",
      "    1.28426740e-02   1.54024439e-03   2.87938690e-03   4.62140726e-04\n",
      "   -4.55439383e-03   3.00542774e-03   2.44896697e-03   5.08160348e-03\n",
      "   -2.31798431e-03  -5.66545614e-04   1.78366512e-03   3.97277472e-03\n",
      "    2.35600552e-03   2.45665137e-03  -1.06457772e-03  -7.84003200e-04\n",
      "    3.42705109e-03  -7.30556200e-05   8.36266552e-03   5.73381964e-03\n",
      "   -4.78833283e-03  -2.46452902e-03  -1.64879824e-02   2.24324700e-03\n",
      "   -5.94567340e-03   7.93303580e-04  -8.30240865e-04  -2.52539950e-03\n",
      "    5.23678364e-03  -5.91104528e-03   6.80084993e-03   4.23775489e-03\n",
      "    7.57160007e-03  -3.47051455e-03  -3.16189548e-03   2.83258519e-03\n",
      "    6.09157036e-03   4.64730480e-04  -5.59237756e-03  -3.70836960e-03\n",
      "    7.51004914e-03   8.03832529e-03  -2.51126693e-04   1.03369010e-02\n",
      "    1.39163731e-03  -1.27161714e-03  -8.94307682e-04   5.68350332e-03\n",
      "   -7.61603705e-03  -4.99700159e-03   3.84999483e-03   3.97146581e-03\n",
      "   -3.45795286e-04   3.42715052e-03   8.83597996e-03  -3.66787939e-03\n",
      "   -6.54679906e-03   3.33111327e-03  -4.04330692e-03  -8.81287790e-03\n",
      "    1.02634507e-02  -1.95790219e-03  -3.80966072e-03   9.65375916e-03\n",
      "   -6.00694600e-03  -1.95115181e-04  -1.69080134e-03   2.07778863e-03\n",
      "   -3.14502253e-03  -1.05635977e-02  -2.10393401e-03   8.27298806e-03\n",
      "   -1.12288886e-02  -6.36568985e-03  -6.19991336e-03   1.63313630e-03\n",
      "    1.40336524e-02  -1.69957989e-03   3.51595142e-03  -1.08932454e-04\n",
      "   -7.51333500e-03  -6.41941703e-03   4.50559139e-05  -1.16807416e-03\n",
      "    1.06195140e-03  -2.38068373e-03   5.19335175e-03   4.44081933e-03\n",
      "   -1.92031372e-03  -7.62998722e-03  -4.55288471e-03   1.12700306e-02\n",
      "   -9.78648780e-04   1.20581696e-06  -1.84524616e-03   5.81936396e-03\n",
      "    9.16431049e-03  -9.75973634e-03  -1.07252740e-02   1.53804299e-02\n",
      "   -6.91396371e-03  -2.11635574e-03   5.13604342e-04  -4.27644727e-03\n",
      "    1.17821529e-02   1.02777437e-02   2.56113011e-03   1.00249888e-03\n",
      "   -6.81685939e-03   4.66936833e-03  -1.62999863e-03   1.41650774e-02\n",
      "    5.86254227e-03  -3.48497891e-04   1.36777218e-02  -7.00914076e-03\n",
      "   -1.35633444e-03  -2.75147623e-03   2.33869498e-03  -6.23716985e-03\n",
      "    2.70330171e-03   1.15944776e-02   6.59898120e-03   5.45967087e-04\n",
      "    9.37357488e-03  -5.78077694e-03   3.11547778e-03   1.93460401e-02\n",
      "    1.10464727e-02  -1.80252635e-03   1.09933876e-02   2.09121577e-02\n",
      "   -8.96534619e-03  -2.07087486e-03  -5.13607255e-04   4.16829689e-03\n",
      "   -4.34713550e-03  -1.93083450e-03  -4.88390124e-03  -7.28851620e-04\n",
      "    1.40899366e-03   9.47972456e-04  -1.46847269e-03  -7.17158357e-03\n",
      "   -1.73101858e-03   2.51897444e-03  -5.66607352e-03   8.99805180e-03\n",
      "   -1.56989204e-03   6.83826494e-03  -6.87345202e-03   1.96973954e-03]]\n"
     ]
    }
   ],
   "source": [
    "meanVector = np.zeros(shape=(1,500))\n",
    "\n",
    "for i in range(X.shape[1]): \n",
    "\n",
    "    mean = 0.00; \n",
    "\n",
    "    sum = 0; \n",
    "\n",
    "    for j in range(X.shape[0]): \n",
    "        sum = sum + X[j][i]\n",
    "\n",
    "    mean = sum / X.shape[0]\n",
    "    meanVector[0][i] = mean\n",
    "\n",
    "print(\"This is the mean vector of matrix X with very small entries.\")\n",
    "print()\n",
    "print(meanVector)"
   ]
  },
  {
   "cell_type": "code",
   "execution_count": 324,
   "metadata": {
    "scrolled": false
   },
   "outputs": [
    {
     "name": "stdout",
     "output_type": "stream",
     "text": [
      "The top two eigenvalues are: \n",
      "[  3.20759437e-01   2.28455202e-01   1.70342288e-09]\n",
      "0.320759437336\n",
      "0.228455202209\n"
     ]
    }
   ],
   "source": [
    "print(\"The top two eigenvalues are: \")\n",
    "eigenvalue1 = w[0]\n",
    "eigenvalue1Index = 0\n",
    "eigenvalue2 = w[1]\n",
    "eigenvalue2Index = 1\n",
    "print(w)\n",
    "print(eigenvalue1)\n",
    "print(eigenvalue2)\n",
    "for i in range(2, w.shape[0]):\n",
    "    if(eigenvalue1 > eigenvalue2):\n",
    "        if(w[i] > eigenvalue2):\n",
    "            eigenvalue2 = w[i]\n",
    "            eigenvalue2Index = i\n",
    "    else:\n",
    "        if(w[i] > eigenvalue1):\n",
    "            eigenvalue1 = w[i]\n",
    "            eigenvalue1Index = i"
   ]
  },
  {
   "cell_type": "markdown",
   "metadata": {},
   "source": [
    "The top 2 principal components are found by finding the top 2 eigenvalues and extracting those corresponding eigenvectors:"
   ]
  },
  {
   "cell_type": "code",
   "execution_count": 325,
   "metadata": {
    "scrolled": false
   },
   "outputs": [
    {
     "name": "stdout",
     "output_type": "stream",
     "text": [
      "[[ 0.21388132 -0.96003226]\n",
      " [-0.8960249  -0.26641574]\n",
      " [-0.38909402  0.08579463]]\n"
     ]
    }
   ],
   "source": [
    "U = np.zeros(shape=(3,2))\n",
    "U[:,0]=v[:,eigenvalue1Index]\n",
    "U[:,1]=v[:,eigenvalue2Index]\n",
    "print(U)"
   ]
  },
  {
   "cell_type": "markdown",
   "metadata": {},
   "source": [
    "## #4"
   ]
  },
  {
   "cell_type": "code",
   "execution_count": 326,
   "metadata": {},
   "outputs": [],
   "source": [
    "xtilda = np.matmul(U.transpose(), X)\n",
    "# print(\"Feature vector x tilda:\")\n",
    "# print()\n",
    "# print(xtilda)\n",
    "xhat = np.matmul(U, xtilda)\n",
    "# print()\n",
    "# print(\"original data samples x hat:\")\n",
    "# print()\n",
    "# print(xhat)"
   ]
  },
  {
   "cell_type": "code",
   "execution_count": 327,
   "metadata": {},
   "outputs": [
    {
     "name": "stdout",
     "output_type": "stream",
     "text": [
      "8.95933314173e-32\n"
     ]
    }
   ],
   "source": [
    "print(np.linalg.norm(xhat-X)**2)"
   ]
  },
  {
   "cell_type": "markdown",
   "metadata": {},
   "source": [
    "## #5"
   ]
  },
  {
   "cell_type": "code",
   "execution_count": 328,
   "metadata": {},
   "outputs": [],
   "source": [
    "# u1 = U[:,0]\n",
    "# print(u1.transpose().shape)\n",
    "# print(X.shape)\n",
    "# xtilda = np.matmul(u1.transpose(), X)\n",
    "# # print(xtilda.reshape(500, 1))\n",
    "# print(xtilda.shape)\n",
    "# # print(U[:,0].transpose().shape)\n",
    "# xhat = np.matmul(U[:,0], xtilda)\n",
    "# print(xhat.shape)"
   ]
  },
  {
   "cell_type": "markdown",
   "metadata": {},
   "source": [
    "### Generation of Dataset #2"
   ]
  },
  {
   "cell_type": "markdown",
   "metadata": {},
   "source": [
    "#### 1) generate fixed vector c"
   ]
  },
  {
   "cell_type": "code",
   "execution_count": 329,
   "metadata": {},
   "outputs": [
    {
     "name": "stdout",
     "output_type": "stream",
     "text": [
      "vector c:\n",
      "[[ 1.83985051]\n",
      " [-2.03003243]\n",
      " [ 6.25568678]]\n",
      "(3, 500)\n",
      "3\n"
     ]
    }
   ],
   "source": [
    "c = np.zeros(shape=(3,1))\n",
    "mu, sigma = 0, 3 # mean and standard deviation\n",
    "for i in range(c.shape[0]):\n",
    "    c[i] = np.random.normal(mu, sigma, 1)\n",
    "print(\"vector c:\")\n",
    "print(c)\n",
    "\n",
    "X = np.zeros(shape=(3, 500))\n",
    "for i in range(500):\n",
    "    v1 = np.zeros(shape=(2,1))\n",
    "    for j in range(v1.shape[0]):\n",
    "        v1[j] = np.random.normal(mu, 1, 1)\n",
    "    Av1 = np.matmul(A, v1)\n",
    "    xi = Av1 + c\n",
    "    X[0][i] = xi[0]\n",
    "    X[1][i] = xi[1]\n",
    "    X[2][i] = xi[2]\n",
    "print(X.shape)\n",
    "print(np.linalg.matrix_rank(X))"
   ]
  },
  {
   "cell_type": "markdown",
   "metadata": {},
   "source": [
    "### PCA, Centering, and Dataset #2"
   ]
  },
  {
   "cell_type": "code",
   "execution_count": 330,
   "metadata": {},
   "outputs": [
    {
     "name": "stdout",
     "output_type": "stream",
     "text": [
      "[[-0.2693045   0.9013613  -0.33915026]\n",
      " [ 0.29810375  0.41288529  0.860616  ]\n",
      " [-0.9157561  -0.13066579  0.37989105]]\n",
      "[  2.33170910e+04   5.25407983e+00   9.49176697e+00]\n",
      "The top two eigenvalues are: \n",
      "0\n",
      "2\n"
     ]
    }
   ],
   "source": [
    "XXT = np.matmul(X, X.transpose())\n",
    "w, v = np.linalg.eig(XXT)\n",
    "print(v)\n",
    "print(w)\n",
    "print(\"The top two eigenvalues are: \")\n",
    "eigenvalue1 = w[0]\n",
    "eigenvalue1Index = 0\n",
    "eigenvalue2 = w[1]\n",
    "eigenvalue2Index = 1\n",
    "for i in range(2, w.shape[0]):\n",
    "    if(eigenvalue1 > eigenvalue2):\n",
    "        if(w[i] > eigenvalue2):\n",
    "            eigenvalue2 = w[i]\n",
    "            eigenvalue2Index = i\n",
    "    else:\n",
    "        if(w[i] > eigenvalue1):\n",
    "            eigenvalue1 = w[i]\n",
    "            eigenvalue1Index = i\n",
    "print(eigenvalue1Index)\n",
    "print(eigenvalue2Index)"
   ]
  },
  {
   "cell_type": "code",
   "execution_count": 331,
   "metadata": {},
   "outputs": [
    {
     "name": "stdout",
     "output_type": "stream",
     "text": [
      "[[-0.2693045  -0.33915026]\n",
      " [ 0.29810375  0.860616  ]\n",
      " [-0.9157561   0.37989105]]\n"
     ]
    }
   ],
   "source": [
    "U[:,0]=v[:,eigenvalue1Index]\n",
    "U[:,1]=v[:,eigenvalue2Index]\n",
    "print(U)"
   ]
  },
  {
   "cell_type": "code",
   "execution_count": 332,
   "metadata": {},
   "outputs": [
    {
     "name": "stdout",
     "output_type": "stream",
     "text": [
      "(3, 3)\n",
      "5.25407982757\n",
      "(500,)\n",
      "(3, 500)\n",
      "(3, 500)\n"
     ]
    }
   ],
   "source": [
    "UUT = np.matmul(U, U.transpose())\n",
    "print(UUT.shape)\n",
    "xhat = np.matmul(UUT, X)\n",
    "print(np.linalg.norm(xhat-X)**2)\n",
    "mean = X.mean(0)\n",
    "# print(mean)\n",
    "print(mean.shape)\n",
    "# mean.shape = (mean.shape[0], 1)\n",
    "print(X.shape)\n",
    "centeredX = X-mean\n",
    "print(centeredX.shape)\n",
    "# X-mean"
   ]
  },
  {
   "cell_type": "code",
   "execution_count": 333,
   "metadata": {},
   "outputs": [
    {
     "name": "stdout",
     "output_type": "stream",
     "text": [
      "[[-0.2693045   0.9013613  -0.33915026]\n",
      " [ 0.29810375  0.41288529  0.860616  ]\n",
      " [-0.9157561  -0.13066579  0.37989105]]\n",
      "[  2.33170910e+04   5.25407983e+00   9.49176697e+00]\n",
      "The top two eigenvalues are: \n",
      "0\n",
      "2\n",
      "[[-0.2693045  -0.33915026]\n",
      " [ 0.29810375  0.860616  ]\n",
      " [-0.9157561   0.37989105]]\n"
     ]
    }
   ],
   "source": [
    "w, v = np.linalg.eig(XXT)\n",
    "print(v)\n",
    "print(w)\n",
    "print(\"The top two eigenvalues are: \")\n",
    "eigenvalue1 = w[0]\n",
    "eigenvalue1Index = 0\n",
    "eigenvalue2 = w[1]\n",
    "eigenvalue2Index = 1\n",
    "for i in range(2, w.shape[0]):\n",
    "    if(eigenvalue1 > eigenvalue2):\n",
    "        if(w[i] > eigenvalue2):\n",
    "            eigenvalue2 = w[i]\n",
    "            eigenvalue2Index = i\n",
    "    else:\n",
    "        if(w[i] > eigenvalue1):\n",
    "            eigenvalue1 = w[i]\n",
    "            eigenvalue1Index = i\n",
    "print(eigenvalue1Index)\n",
    "print(eigenvalue2Index)\n",
    "U[:,0]=v[:,eigenvalue1Index]\n",
    "U[:,1]=v[:,eigenvalue2Index]\n",
    "print(U)"
   ]
  },
  {
   "cell_type": "code",
   "execution_count": 334,
   "metadata": {},
   "outputs": [
    {
     "name": "stdout",
     "output_type": "stream",
     "text": [
      "2857.86772561\n"
     ]
    }
   ],
   "source": [
    "UUT = np.matmul(U, U.transpose())\n",
    "xhat = np.matmul(UUT, centeredX)+mean\n",
    "print(np.linalg.norm(xhat-X)**2)"
   ]
  },
  {
   "cell_type": "markdown",
   "metadata": {},
   "source": [
    "## Generation of Dataset #3"
   ]
  },
  {
   "cell_type": "code",
   "execution_count": 335,
   "metadata": {},
   "outputs": [],
   "source": [
    "N = 500\n",
    "X = np.zeros(shape=(3,N))\n",
    "v = np.zeros(shape=(2,1))\n",
    "n = np.zeros(shape=(3,1)) # noise\n",
    "for i in range(N):\n",
    "    v[0] = np.random.normal(0, 1, 1)\n",
    "    v[1] = np.random.normal(0, 1, 1)\n",
    "    Av = np.matmul(A, v)\n",
    "    n[0] = np.random.normal(0, 0.01, 1)\n",
    "    n[1] = np.random.normal(0, 0.01, 1)\n",
    "    n[2] = np.random.normal(0, 0.01, 1)\n",
    "    x = Av+n\n",
    "    X[0][i] = x[0]\n",
    "    X[1][i] = x[1]\n",
    "    X[2][i] = x[2]"
   ]
  },
  {
   "cell_type": "code",
   "execution_count": 336,
   "metadata": {},
   "outputs": [
    {
     "name": "stdout",
     "output_type": "stream",
     "text": [
      "3\n",
      "[ 29.99297767  21.86344177  11.0639597 ]\n"
     ]
    }
   ],
   "source": [
    "# normalize X\n",
    "for i in range(X.shape[1]):\n",
    "    X[j][i] = (X[j][i])/np.linalg.norm(X[j][i])\n",
    "print(\"Rank of normalized matrix: \", np.linalg.matrix_rank(X))\n",
    "u, s, vT = np.linalg.svd(X)\n",
    "print(\"Singular Values of normalized matrix: \", s)"
   ]
  },
  {
   "cell_type": "code",
   "execution_count": null,
   "metadata": {
    "collapsed": true
   },
   "outputs": [],
   "source": []
  },
  {
   "cell_type": "code",
   "execution_count": null,
   "metadata": {
    "collapsed": true
   },
   "outputs": [],
   "source": []
  }
 ],
 "metadata": {
  "kernelspec": {
   "display_name": "Python 3",
   "language": "python",
   "name": "python3"
  },
  "language_info": {
   "codemirror_mode": {
    "name": "ipython",
    "version": 3
   },
   "file_extension": ".py",
   "mimetype": "text/x-python",
   "name": "python",
   "nbconvert_exporter": "python",
   "pygments_lexer": "ipython3",
   "version": "3.6.3"
  }
 },
 "nbformat": 4,
 "nbformat_minor": 2
}
